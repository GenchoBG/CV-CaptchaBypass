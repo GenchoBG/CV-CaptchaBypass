{
 "cells": [
  {
   "cell_type": "markdown",
   "metadata": {},
   "source": [
    "## Create Dataset"
   ]
  },
  {
   "cell_type": "code",
   "execution_count": 5,
   "metadata": {},
   "outputs": [],
   "source": [
    "import os\n",
    "import numpy as np\n",
    "from PIL import Image"
   ]
  },
  {
   "cell_type": "code",
   "execution_count": 9,
   "metadata": {},
   "outputs": [],
   "source": [
    "dataset = []\n",
    "labels = []"
   ]
  },
  {
   "cell_type": "code",
   "execution_count": 10,
   "metadata": {},
   "outputs": [],
   "source": [
    "for filename in os.listdir(\"dataset\"):\n",
    "    if filename.endswith(\".png\"):\n",
    "        img_path = os.path.join(\"dataset\", filename)\n",
    "        im = Image.open(img_path).convert('L')\n",
    "        dataset.append(np.asarray(im, dtype=np.float32))\n",
    "        labels.append(filename.replace(\".png\", \"\"))"
   ]
  },
  {
   "cell_type": "code",
   "execution_count": 11,
   "metadata": {},
   "outputs": [
    {
     "data": {
      "image/png": "[encoded data removed]",
      "text/plain": [
       "<PIL.Image.Image image mode=L size=100x40 at 0x236BC945320>"
      ]
     },
     "execution_count": 11,
     "metadata": {},
     "output_type": "execute_result"
    }
   ],
   "source": [
    "Image.fromarray(np.array(dataset[1], dtype=np.uint8))"
   ]
  },
  {
   "cell_type": "code",
   "execution_count": 12,
   "metadata": {},
   "outputs": [
    {
     "data": {
      "text/plain": [
       "'186hw'"
      ]
     },
     "execution_count": 12,
     "metadata": {},
     "output_type": "execute_result"
    }
   ],
   "source": [
    "labels[1]"
   ]
  },
  {
   "cell_type": "code",
   "execution_count": 13,
   "metadata": {},
   "outputs": [],
   "source": [
    "ch2index = {}\n",
    "index2ch = {}\n",
    "index = 0\n",
    "for label in labels:\n",
    "    for ch in label:\n",
    "        if ch not in ch2index.keys():\n",
    "            ch2index[ch] = index\n",
    "            index2ch[index] = ch\n",
    "            index += 1"
   ]
  },
  {
   "cell_type": "code",
   "execution_count": 14,
   "metadata": {},
   "outputs": [
    {
     "data": {
      "text/plain": [
       "{'0': 0,\n",
       " 'p': 1,\n",
       " 'd': 2,\n",
       " '3': 3,\n",
       " 'w': 4,\n",
       " '1': 5,\n",
       " '8': 6,\n",
       " '6': 7,\n",
       " 'h': 8,\n",
       " '2': 9,\n",
       " 'v': 10,\n",
       " 'e': 11,\n",
       " 'x': 12,\n",
       " 'f': 13,\n",
       " 'b': 14,\n",
       " 'n': 15,\n",
       " 'z': 16,\n",
       " 'q': 17,\n",
       " 'u': 18,\n",
       " 'y': 19,\n",
       " 'a': 20,\n",
       " 's': 21,\n",
       " '4': 22,\n",
       " 'c': 23,\n",
       " 'k': 24,\n",
       " '5': 25,\n",
       " '7': 26,\n",
       " 'm': 27,\n",
       " 'r': 28,\n",
       " 'g': 29,\n",
       " 'o': 30,\n",
       " 'l': 31,\n",
       " 'j': 32,\n",
       " 't': 33,\n",
       " '9': 34,\n",
       " 'i': 35}"
      ]
     },
     "execution_count": 14,
     "metadata": {},
     "output_type": "execute_result"
    }
   ],
   "source": [
    "ch2index"
   ]
  },
  {
   "cell_type": "code",
   "execution_count": 15,
   "metadata": {},
   "outputs": [
    {
     "name": "stdout",
     "output_type": "stream",
     "text": [
      "total char type: 36\n"
     ]
    }
   ],
   "source": [
    "print(\"total char type:\", len(ch2index))"
   ]
  },
  {
   "cell_type": "code",
   "execution_count": 16,
   "metadata": {},
   "outputs": [],
   "source": [
    "y0 = []\n",
    "y1 = []\n",
    "y2 = []\n",
    "y3 = []\n",
    "y4 = []\n",
    "\n",
    "for label in labels:\n",
    "    y0.append(ch2index[label[0]])\n",
    "    y1.append(ch2index[label[1]])\n",
    "    y2.append(ch2index[label[2]])\n",
    "    y3.append(ch2index[label[3]])\n",
    "    y4.append(ch2index[label[4]])"
   ]
  },
  {
   "cell_type": "code",
   "execution_count": 17,
   "metadata": {},
   "outputs": [
    {
     "data": {
      "text/plain": [
       "11303"
      ]
     },
     "execution_count": 17,
     "metadata": {},
     "output_type": "execute_result"
    }
   ],
   "source": [
    "len(y0)"
   ]
  },
  {
   "cell_type": "code",
   "execution_count": 18,
   "metadata": {},
   "outputs": [],
   "source": [
    "X_train = np.array(dataset[:10000]).reshape(-1, 40, 100, 1)\n",
    "y_train = [\n",
    "    np.array(y0[:10000]),\n",
    "    np.array(y1[:10000]),\n",
    "    np.array(y2[:10000]),\n",
    "    np.array(y3[:10000]),\n",
    "    np.array(y4[:10000]),\n",
    "]"
   ]
  },
  {
   "cell_type": "code",
   "execution_count": 19,
   "metadata": {},
   "outputs": [
    {
     "data": {
      "text/plain": [
       "(10000, 40, 100, 1)"
      ]
     },
     "execution_count": 19,
     "metadata": {},
     "output_type": "execute_result"
    }
   ],
   "source": [
    "X_train.shape"
   ]
  },
  {
   "cell_type": "code",
   "execution_count": 20,
   "metadata": {},
   "outputs": [],
   "source": [
    "X_test = np.array(dataset[10000:]).reshape(-1, 40, 100, 1)\n",
    "y_test = [\n",
    "    np.array(y0[10000:]),\n",
    "    np.array(y1[10000:]),\n",
    "    np.array(y2[10000:]),\n",
    "    np.array(y3[10000:]),\n",
    "    np.array(y4[10000:]),\n",
    "]"
   ]
  },
  {
   "cell_type": "code",
   "execution_count": 21,
   "metadata": {},
   "outputs": [
    {
     "data": {
      "text/plain": [
       "(1303, 40, 100, 1)"
      ]
     },
     "execution_count": 21,
     "metadata": {},
     "output_type": "execute_result"
    }
   ],
   "source": [
    "X_test.shape"
   ]
  },
  {
   "cell_type": "markdown",
   "metadata": {},
   "source": [
    "## Train the Network"
   ]
  },
  {
   "cell_type": "code",
   "execution_count": 22,
   "metadata": {},
   "outputs": [
    {
     "name": "stderr",
     "output_type": "stream",
     "text": [
      "Using TensorFlow backend.\n"
     ]
    }
   ],
   "source": [
    "from keras.layers import Activation, Input, Dense, Conv2D, MaxPool2D, Dropout, Flatten, BatchNormalization\n",
    "from keras.models import Model\n",
    "from keras.layers.merge import Concatenate\n",
    "\n",
    "\n",
    "def build_model():\n",
    "    input_ = Input(shape=(40, 100, 1))\n",
    "\n",
    "    # conv layer 1\n",
    "    model = BatchNormalization()(input_)\n",
    "    model = Conv2D(64, (5, 5), activation ='relu', padding='same')(model)\n",
    "    model = MaxPool2D(pool_size=(2, 2))(model)\n",
    "\n",
    "    # conv layer 2\n",
    "    model = BatchNormalization()(model)\n",
    "    model = Conv2D(128, (5, 5), activation ='relu', padding='valid')(model)\n",
    "    model = MaxPool2D(pool_size=(2, 2))(model)\n",
    "\n",
    "    # conv layer 3\n",
    "    model = BatchNormalization()(model)\n",
    "    model = Conv2D(256, (5, 5), activation ='relu', padding='valid')(model)\n",
    "    model = MaxPool2D(pool_size=(2, 2))(model)\n",
    "    model = Dropout(0.5)(model)\n",
    "\n",
    "    # fully connected layer\n",
    "    model = Flatten()(model)\n",
    "    model = Dense(1024, activation='relu')(model)\n",
    "    model = Dropout(0.5)(model)\n",
    "    model = Dense(512, activation='relu')(model)\n",
    "\n",
    "    x0 = Dense(36, activation='softmax')(model)\n",
    "    x1 = Dense(36, activation='softmax')(model)\n",
    "    x2 = Dense(36, activation='softmax')(model)\n",
    "    x3 = Dense(36, activation='softmax')(model)\n",
    "    x4 = Dense(36, activation='softmax')(model)\n",
    "\n",
    "    x = [x0, x1, x2, x3, x4]\n",
    "\n",
    "    model = Model(inputs=input_, outputs=x)\n",
    "    return model"
   ]
  },
  {
   "cell_type": "code",
   "execution_count": 23,
   "metadata": {},
   "outputs": [
    {
     "name": "stderr",
     "output_type": "stream",
     "text": [
      "WARNING: Logging before flag parsing goes to stderr.\n",
      "W0713 22:40:58.133103 22016 deprecation_wrapper.py:119] From C:\\Users\\Gencho\\Anaconda3\\lib\\site-packages\\keras\\backend\\tensorflow_backend.py:4070: The name tf.nn.max_pool is deprecated. Please use tf.nn.max_pool2d instead.\n",
      "\n"
     ]
    }
   ],
   "source": [
    "model = build_model()"
   ]
  },
  {
   "cell_type": "code",
   "execution_count": 24,
   "metadata": {},
   "outputs": [
    {
     "name": "stdout",
     "output_type": "stream",
     "text": [
      "Model: \"model_1\"\n",
      "__________________________________________________________________________________________________\n",
      "Layer (type)                    Output Shape         Param #     Connected to                     \n",
      "==================================================================================================\n",
      "input_1 (InputLayer)            (None, 40, 100, 1)   0                                            \n",
      "__________________________________________________________________________________________________\n",
      "batch_normalization_1 (BatchNor (None, 40, 100, 1)   4           input_1[0][0]                    \n",
      "__________________________________________________________________________________________________\n",
      "conv2d_1 (Conv2D)               (None, 40, 100, 64)  1664        batch_normalization_1[0][0]      \n",
      "__________________________________________________________________________________________________\n",
      "max_pooling2d_1 (MaxPooling2D)  (None, 20, 50, 64)   0           conv2d_1[0][0]                   \n",
      "__________________________________________________________________________________________________\n",
      "batch_normalization_2 (BatchNor (None, 20, 50, 64)   256         max_pooling2d_1[0][0]            \n",
      "__________________________________________________________________________________________________\n",
      "conv2d_2 (Conv2D)               (None, 16, 46, 128)  204928      batch_normalization_2[0][0]      \n",
      "__________________________________________________________________________________________________\n",
      "max_pooling2d_2 (MaxPooling2D)  (None, 8, 23, 128)   0           conv2d_2[0][0]                   \n",
      "__________________________________________________________________________________________________\n",
      "batch_normalization_3 (BatchNor (None, 8, 23, 128)   512         max_pooling2d_2[0][0]            \n",
      "__________________________________________________________________________________________________\n",
      "conv2d_3 (Conv2D)               (None, 4, 19, 256)   819456      batch_normalization_3[0][0]      \n",
      "__________________________________________________________________________________________________\n",
      "max_pooling2d_3 (MaxPooling2D)  (None, 2, 9, 256)    0           conv2d_3[0][0]                   \n",
      "__________________________________________________________________________________________________\n",
      "dropout_1 (Dropout)             (None, 2, 9, 256)    0           max_pooling2d_3[0][0]            \n",
      "__________________________________________________________________________________________________\n",
      "flatten_1 (Flatten)             (None, 4608)         0           dropout_1[0][0]                  \n",
      "__________________________________________________________________________________________________\n",
      "dense_1 (Dense)                 (None, 1024)         4719616     flatten_1[0][0]                  \n",
      "__________________________________________________________________________________________________\n",
      "dropout_2 (Dropout)             (None, 1024)         0           dense_1[0][0]                    \n",
      "__________________________________________________________________________________________________\n",
      "dense_2 (Dense)                 (None, 512)          524800      dropout_2[0][0]                  \n",
      "__________________________________________________________________________________________________\n",
      "dense_3 (Dense)                 (None, 36)           18468       dense_2[0][0]                    \n",
      "__________________________________________________________________________________________________\n",
      "dense_4 (Dense)                 (None, 36)           18468       dense_2[0][0]                    \n",
      "__________________________________________________________________________________________________\n",
      "dense_5 (Dense)                 (None, 36)           18468       dense_2[0][0]                    \n",
      "__________________________________________________________________________________________________\n",
      "dense_6 (Dense)                 (None, 36)           18468       dense_2[0][0]                    \n",
      "__________________________________________________________________________________________________\n",
      "dense_7 (Dense)                 (None, 36)           18468       dense_2[0][0]                    \n",
      "==================================================================================================\n",
      "Total params: 6,363,576\n",
      "Trainable params: 6,363,190\n",
      "Non-trainable params: 386\n",
      "__________________________________________________________________________________________________\n"
     ]
    }
   ],
   "source": [
    "model.summary()"
   ]
  },
  {
   "cell_type": "code",
   "execution_count": 25,
   "metadata": {},
   "outputs": [],
   "source": [
    "model.compile(loss='sparse_categorical_crossentropy',\n",
    "              optimizer=\"rmsprop\",\n",
    "              metrics=['accuracy'])"
   ]
  },
  {
   "cell_type": "code",
   "execution_count": 26,
   "metadata": {},
   "outputs": [
    {
     "name": "stderr",
     "output_type": "stream",
     "text": [
      "W0713 22:41:05.709970 22016 deprecation_wrapper.py:119] From C:\\Users\\Gencho\\Anaconda3\\lib\\site-packages\\keras\\backend\\tensorflow_backend.py:422: The name tf.global_variables is deprecated. Please use tf.compat.v1.global_variables instead.\n",
      "\n"
     ]
    },
    {
     "name": "stdout",
     "output_type": "stream",
     "text": [
      "Epoch 1/20\n",
      "10000/10000 [==============================] - 6s 637us/step - loss: 17.3098 - dense_3_loss: 3.4032 - dense_4_loss: 3.4711 - dense_5_loss: 3.4614 - dense_6_loss: 3.4939 - dense_7_loss: 3.4757 - dense_3_accuracy: 0.0608 - dense_4_accuracy: 0.0535 - dense_5_accuracy: 0.0548 - dense_6_accuracy: 0.0490 - dense_7_accuracy: 0.0507\n",
      "Epoch 2/20\n",
      "10000/10000 [==============================] - 4s 367us/step - loss: 15.8180 - dense_3_loss: 2.9922 - dense_4_loss: 3.1825 - dense_5_loss: 3.1926 - dense_6_loss: 3.2119 - dense_7_loss: 3.2362 - dense_3_accuracy: 0.1242 - dense_4_accuracy: 0.0983 - dense_5_accuracy: 0.0980 - dense_6_accuracy: 0.0896 - dense_7_accuracy: 0.0881\n",
      "Epoch 3/20\n",
      "10000/10000 [==============================] - 4s 367us/step - loss: 14.3065 - dense_3_loss: 2.5075 - dense_4_loss: 2.8205 - dense_5_loss: 2.9574 - dense_6_loss: 3.0096 - dense_7_loss: 3.0214 - dense_3_accuracy: 0.2524 - dense_4_accuracy: 0.1852 - dense_5_accuracy: 0.1545 - dense_6_accuracy: 0.1444 - dense_7_accuracy: 0.1467\n",
      "Epoch 4/20\n",
      "10000/10000 [==============================] - 4s 376us/step - loss: 12.5781 - dense_3_loss: 2.0116 - dense_4_loss: 2.4033 - dense_5_loss: 2.6418 - dense_6_loss: 2.7608 - dense_7_loss: 2.7593 - dense_3_accuracy: 0.3770 - dense_4_accuracy: 0.2805 - dense_5_accuracy: 0.2351 - dense_6_accuracy: 0.2085 - dense_7_accuracy: 0.21532s - loss: 12.9298 - dense_3_loss: 2.1137 - dense_4_loss: 2.5083 - dense_5_loss: 2.7152 - dense_6_loss: 2.7879 - dense_7_loss: 2.8046 - dense_3_accuracy: 0.3519 - dense_4_accuracy: 0.2615 - dense_5_accura\n",
      "Epoch 5/20\n",
      "10000/10000 [==============================] - 4s 372us/step - loss: 11.0675 - dense_3_loss: 1.6750 - dense_4_loss: 2.0476 - dense_5_loss: 2.3418 - dense_6_loss: 2.4851 - dense_7_loss: 2.5209 - dense_3_accuracy: 0.4657 - dense_4_accuracy: 0.3709 - dense_5_accuracy: 0.3188 - dense_6_accuracy: 0.2770 - dense_7_accuracy: 0.2722\n",
      "Epoch 6/20\n",
      "10000/10000 [==============================] - 4s 371us/step - loss: 9.6821 - dense_3_loss: 1.3663 - dense_4_loss: 1.7472 - dense_5_loss: 2.0703 - dense_6_loss: 2.2246 - dense_7_loss: 2.2716 - dense_3_accuracy: 0.5597 - dense_4_accuracy: 0.4546 - dense_5_accuracy: 0.3838 - dense_6_accuracy: 0.3451 - dense_7_accuracy: 0.3373\n",
      "Epoch 7/20\n",
      "10000/10000 [==============================] - 4s 369us/step - loss: 8.5266 - dense_3_loss: 1.1775 - dense_4_loss: 1.4849 - dense_5_loss: 1.8244 - dense_6_loss: 1.9780 - dense_7_loss: 2.0580 - dense_3_accuracy: 0.6199 - dense_4_accuracy: 0.5283 - dense_5_accuracy: 0.4515 - dense_6_accuracy: 0.4190 - dense_7_accuracy: 0.3912\n",
      "Epoch 8/20\n",
      "10000/10000 [==============================] - 4s 364us/step - loss: 7.5847 - dense_3_loss: 1.0409 - dense_4_loss: 1.2995 - dense_5_loss: 1.5930 - dense_6_loss: 1.7551 - dense_7_loss: 1.8936 - dense_3_accuracy: 0.6668 - dense_4_accuracy: 0.5848 - dense_5_accuracy: 0.5177 - dense_6_accuracy: 0.4732 - dense_7_accuracy: 0.4438\n",
      "Epoch 9/20\n",
      "10000/10000 [==============================] - 4s 388us/step - loss: 6.8328 - dense_3_loss: 0.9240 - dense_4_loss: 1.1603 - dense_5_loss: 1.4363 - dense_6_loss: 1.5842 - dense_7_loss: 1.7283 - dense_3_accuracy: 0.7103 - dense_4_accuracy: 0.6290 - dense_5_accuracy: 0.5627 - dense_6_accuracy: 0.5192 - dense_7_accuracy: 0.4872\n",
      "Epoch 10/20\n",
      "10000/10000 [==============================] - 4s 370us/step - loss: 6.0880 - dense_3_loss: 0.8210 - dense_4_loss: 1.0023 - dense_5_loss: 1.2848 - dense_6_loss: 1.4030 - dense_7_loss: 1.5796 - dense_3_accuracy: 0.7385 - dense_4_accuracy: 0.6786 - dense_5_accuracy: 0.6117 - dense_6_accuracy: 0.5743 - dense_7_accuracy: 0.5315\n",
      "Epoch 11/20\n",
      "10000/10000 [==============================] - 4s 386us/step - loss: 5.6021 - dense_3_loss: 0.7549 - dense_4_loss: 0.9225 - dense_5_loss: 1.1699 - dense_6_loss: 1.2926 - dense_7_loss: 1.4586 - dense_3_accuracy: 0.7620 - dense_4_accuracy: 0.7031 - dense_5_accuracy: 0.6434 - dense_6_accuracy: 0.6056 - dense_7_accuracy: 0.5679\n",
      "Epoch 12/20\n",
      "10000/10000 [==============================] - 4s 369us/step - loss: 5.0980 - dense_3_loss: 0.6802 - dense_4_loss: 0.8096 - dense_5_loss: 1.0615 - dense_6_loss: 1.1895 - dense_7_loss: 1.3567 - dense_3_accuracy: 0.7818 - dense_4_accuracy: 0.7428 - dense_5_accuracy: 0.6717 - dense_6_accuracy: 0.6349 - dense_7_accuracy: 0.5945\n",
      "Epoch 13/20\n",
      "10000/10000 [==============================] - 4s 373us/step - loss: 4.7062 - dense_3_loss: 0.6290 - dense_4_loss: 0.7533 - dense_5_loss: 0.9639 - dense_6_loss: 1.0821 - dense_7_loss: 1.2826 - dense_3_accuracy: 0.7986 - dense_4_accuracy: 0.7587 - dense_5_accuracy: 0.7033 - dense_6_accuracy: 0.6639 - dense_7_accuracy: 0.6191\n",
      "Epoch 14/20\n",
      "10000/10000 [==============================] - 4s 366us/step - loss: 4.3370 - dense_3_loss: 0.5833 - dense_4_loss: 0.6879 - dense_5_loss: 0.8848 - dense_6_loss: 1.0024 - dense_7_loss: 1.1812 - dense_3_accuracy: 0.8162 - dense_4_accuracy: 0.7821 - dense_5_accuracy: 0.7277 - dense_6_accuracy: 0.6887 - dense_7_accuracy: 0.6482\n",
      "Epoch 15/20\n",
      "10000/10000 [==============================] - 4s 382us/step - loss: 4.0767 - dense_3_loss: 0.5349 - dense_4_loss: 0.6532 - dense_5_loss: 0.8265 - dense_6_loss: 0.9306 - dense_7_loss: 1.1323 - dense_3_accuracy: 0.8269 - dense_4_accuracy: 0.7949 - dense_5_accuracy: 0.7432 - dense_6_accuracy: 0.7133 - dense_7_accuracy: 0.6618\n",
      "Epoch 16/20\n",
      "10000/10000 [==============================] - 4s 380us/step - loss: 3.8354 - dense_3_loss: 0.5372 - dense_4_loss: 0.6093 - dense_5_loss: 0.7770 - dense_6_loss: 0.8679 - dense_7_loss: 1.0425 - dense_3_accuracy: 0.8370 - dense_4_accuracy: 0.8048 - dense_5_accuracy: 0.7548 - dense_6_accuracy: 0.7292 - dense_7_accuracy: 0.6846\n",
      "Epoch 17/20\n",
      "10000/10000 [==============================] - 4s 381us/step - loss: 3.6116 - dense_3_loss: 0.4931 - dense_4_loss: 0.5731 - dense_5_loss: 0.7093 - dense_6_loss: 0.8182 - dense_7_loss: 1.0226 - dense_3_accuracy: 0.8417 - dense_4_accuracy: 0.8160 - dense_5_accuracy: 0.7771 - dense_6_accuracy: 0.7503 - dense_7_accuracy: 0.6907\n",
      "Epoch 18/20\n",
      "10000/10000 [==============================] - 4s 376us/step - loss: 3.3996 - dense_3_loss: 0.4648 - dense_4_loss: 0.5442 - dense_5_loss: 0.6655 - dense_6_loss: 0.7766 - dense_7_loss: 0.9429 - dense_3_accuracy: 0.8567 - dense_4_accuracy: 0.8276 - dense_5_accuracy: 0.7964 - dense_6_accuracy: 0.7554 - dense_7_accuracy: 0.7146\n",
      "Epoch 19/20\n",
      "10000/10000 [==============================] - 4s 377us/step - loss: 3.2038 - dense_3_loss: 0.4478 - dense_4_loss: 0.4998 - dense_5_loss: 0.6591 - dense_6_loss: 0.7070 - dense_7_loss: 0.8950 - dense_3_accuracy: 0.8626 - dense_4_accuracy: 0.8409 - dense_5_accuracy: 0.7987 - dense_6_accuracy: 0.7773 - dense_7_accuracy: 0.7351\n",
      "Epoch 20/20\n",
      "10000/10000 [==============================] - 4s 368us/step - loss: 3.0681 - dense_3_loss: 0.4238 - dense_4_loss: 0.4774 - dense_5_loss: 0.6105 - dense_6_loss: 0.6912 - dense_7_loss: 0.8662 - dense_3_accuracy: 0.8673 - dense_4_accuracy: 0.8465 - dense_5_accuracy: 0.8108 - dense_6_accuracy: 0.7794 - dense_7_accuracy: 0.7374\n"
     ]
    },
    {
     "data": {
      "text/plain": [
       "<keras.callbacks.callbacks.History at 0x236b6faa400>"
      ]
     },
     "execution_count": 26,
     "metadata": {},
     "output_type": "execute_result"
    }
   ],
   "source": [
    "model.fit(X_train, y_train, batch_size=64, epochs=20)"
   ]
  },
  {
   "cell_type": "code",
   "execution_count": 27,
   "metadata": {},
   "outputs": [
    {
     "name": "stdout",
     "output_type": "stream",
     "text": [
      "Epoch 1/20\n",
      "10000/10000 [==============================] - 4s 378us/step - loss: 2.9369 - dense_3_loss: 0.3982 - dense_4_loss: 0.4767 - dense_5_loss: 0.5816 - dense_6_loss: 0.6598 - dense_7_loss: 0.8182 - dense_3_accuracy: 0.8776 - dense_4_accuracy: 0.8505 - dense_5_accuracy: 0.8189 - dense_6_accuracy: 0.7940 - dense_7_accuracy: 0.7517\n",
      "Epoch 2/20\n",
      "10000/10000 [==============================] - 4s 378us/step - loss: 2.7665 - dense_3_loss: 0.3942 - dense_4_loss: 0.4309 - dense_5_loss: 0.5535 - dense_6_loss: 0.6150 - dense_7_loss: 0.7724 - dense_3_accuracy: 0.8758 - dense_4_accuracy: 0.8640 - dense_5_accuracy: 0.8271 - dense_6_accuracy: 0.8063 - dense_7_accuracy: 0.7632\n",
      "Epoch 3/20\n",
      "10000/10000 [==============================] - 4s 375us/step - loss: 2.6975 - dense_3_loss: 0.3747 - dense_4_loss: 0.4352 - dense_5_loss: 0.5299 - dense_6_loss: 0.6164 - dense_7_loss: 0.7402 - dense_3_accuracy: 0.8839 - dense_4_accuracy: 0.8655 - dense_5_accuracy: 0.8399 - dense_6_accuracy: 0.8076 - dense_7_accuracy: 0.7746\n",
      "Epoch 4/20\n",
      "10000/10000 [==============================] - 4s 376us/step - loss: 2.5732 - dense_3_loss: 0.3653 - dense_4_loss: 0.4040 - dense_5_loss: 0.5066 - dense_6_loss: 0.5717 - dense_7_loss: 0.7248 - dense_3_accuracy: 0.8881 - dense_4_accuracy: 0.8702 - dense_5_accuracy: 0.8443 - dense_6_accuracy: 0.8150 - dense_7_accuracy: 0.7799\n",
      "Epoch 5/20\n",
      "10000/10000 [==============================] - 4s 416us/step - loss: 2.4863 - dense_3_loss: 0.3655 - dense_4_loss: 0.3932 - dense_5_loss: 0.4840 - dense_6_loss: 0.5426 - dense_7_loss: 0.7027 - dense_3_accuracy: 0.8903 - dense_4_accuracy: 0.8795 - dense_5_accuracy: 0.8479 - dense_6_accuracy: 0.8290 - dense_7_accuracy: 0.7874\n",
      "Epoch 6/20\n",
      "10000/10000 [==============================] - 4s 389us/step - loss: 2.3254 - dense_3_loss: 0.3376 - dense_4_loss: 0.3700 - dense_5_loss: 0.4590 - dense_6_loss: 0.5054 - dense_7_loss: 0.6551 - dense_3_accuracy: 0.8940 - dense_4_accuracy: 0.8814 - dense_5_accuracy: 0.8575 - dense_6_accuracy: 0.8384 - dense_7_accuracy: 0.8010 3s - loss: 2.2120 - dense_3_loss: 0.3041 - dense_4_loss: 0.3423 - dense_5_loss: 0.4370 - dense_6_loss: 0.4967 - dense_7_loss: 0.6319 - dense_3_accuracy: 0.9056 - dense_4_accuracy: 0.8842 - dense_5_accuracy: 0.8651 - dense_6_accu\n",
      "Epoch 7/20\n",
      "10000/10000 [==============================] - 4s 395us/step - loss: 2.2756 - dense_3_loss: 0.3258 - dense_4_loss: 0.3675 - dense_5_loss: 0.4549 - dense_6_loss: 0.4805 - dense_7_loss: 0.6453 - dense_3_accuracy: 0.9001 - dense_4_accuracy: 0.8893 - dense_5_accuracy: 0.8581 - dense_6_accuracy: 0.8491 - dense_7_accuracy: 0.8037\n",
      "Epoch 8/20\n",
      "10000/10000 [==============================] - 4s 373us/step - loss: 2.1406 - dense_3_loss: 0.3064 - dense_4_loss: 0.3381 - dense_5_loss: 0.4153 - dense_6_loss: 0.4776 - dense_7_loss: 0.6042 - dense_3_accuracy: 0.9071 - dense_4_accuracy: 0.8927 - dense_5_accuracy: 0.8684 - dense_6_accuracy: 0.8504 - dense_7_accuracy: 0.8161\n",
      "Epoch 9/20\n",
      "10000/10000 [==============================] - 4s 368us/step - loss: 2.1039 - dense_3_loss: 0.3107 - dense_4_loss: 0.3317 - dense_5_loss: 0.3945 - dense_6_loss: 0.4599 - dense_7_loss: 0.6042 - dense_3_accuracy: 0.9017 - dense_4_accuracy: 0.8965 - dense_5_accuracy: 0.8758 - dense_6_accuracy: 0.8559 - dense_7_accuracy: 0.8167\n",
      "Epoch 10/20\n",
      "10000/10000 [==============================] - 4s 401us/step - loss: 2.0301 - dense_3_loss: 0.2940 - dense_4_loss: 0.3100 - dense_5_loss: 0.4049 - dense_6_loss: 0.4519 - dense_7_loss: 0.5753 - dense_3_accuracy: 0.9110 - dense_4_accuracy: 0.9041 - dense_5_accuracy: 0.8797 - dense_6_accuracy: 0.8601 - dense_7_accuracy: 0.8243 3s - loss: 1.9210 - dense_3_loss: 0.2468 - dense_4_loss: 0.2950 - dense_5_loss: 0.3845 - dense_6_loss: 0.4472 - dense_7_loss: 0.5474 - dense_3_accuracy: 0.9194 - dense_4_accuracy: 0.9123 - dense_5_accuracy: 0.8735 -\n",
      "Epoch 11/20\n",
      "10000/10000 [==============================] - 4s 373us/step - loss: 1.9206 - dense_3_loss: 0.2719 - dense_4_loss: 0.2929 - dense_5_loss: 0.3924 - dense_6_loss: 0.4247 - dense_7_loss: 0.5409 - dense_3_accuracy: 0.9155 - dense_4_accuracy: 0.9071 - dense_5_accuracy: 0.8776 - dense_6_accuracy: 0.8671 - dense_7_accuracy: 0.8348\n",
      "Epoch 12/20\n",
      "10000/10000 [==============================] - 5s 469us/step - loss: 1.8992 - dense_3_loss: 0.2854 - dense_4_loss: 0.2916 - dense_5_loss: 0.3647 - dense_6_loss: 0.4308 - dense_7_loss: 0.5225 - dense_3_accuracy: 0.9129 - dense_4_accuracy: 0.9084 - dense_5_accuracy: 0.8879 - dense_6_accuracy: 0.8680 - dense_7_accuracy: 0.8387\n",
      "Epoch 13/20\n",
      "10000/10000 [==============================] - 5s 463us/step - loss: 1.7932 - dense_3_loss: 0.2538 - dense_4_loss: 0.2819 - dense_5_loss: 0.3486 - dense_6_loss: 0.3941 - dense_7_loss: 0.5114 - dense_3_accuracy: 0.9213 - dense_4_accuracy: 0.9129 - dense_5_accuracy: 0.8910 - dense_6_accuracy: 0.8768 - dense_7_accuracy: 0.8392\n",
      "Epoch 14/20\n",
      "10000/10000 [==============================] - 4s 389us/step - loss: 1.7184 - dense_3_loss: 0.2515 - dense_4_loss: 0.2647 - dense_5_loss: 0.3495 - dense_6_loss: 0.3852 - dense_7_loss: 0.4726 - dense_3_accuracy: 0.9227 - dense_4_accuracy: 0.9212 - dense_5_accuracy: 0.8951 - dense_6_accuracy: 0.8793 - dense_7_accuracy: 0.8541\n",
      "Epoch 15/20\n",
      "10000/10000 [==============================] - 4s 423us/step - loss: 1.6801 - dense_3_loss: 0.2471 - dense_4_loss: 0.2646 - dense_5_loss: 0.3279 - dense_6_loss: 0.3741 - dense_7_loss: 0.4671 - dense_3_accuracy: 0.9240 - dense_4_accuracy: 0.9159 - dense_5_accuracy: 0.8991 - dense_6_accuracy: 0.8850 - dense_7_accuracy: 0.8547\n",
      "Epoch 16/20\n",
      "10000/10000 [==============================] - 4s 405us/step - loss: 1.6122 - dense_3_loss: 0.2372 - dense_4_loss: 0.2611 - dense_5_loss: 0.3125 - dense_6_loss: 0.3527 - dense_7_loss: 0.4504 - dense_3_accuracy: 0.9281 - dense_4_accuracy: 0.9191 - dense_5_accuracy: 0.8997 - dense_6_accuracy: 0.8879 - dense_7_accuracy: 0.8575\n",
      "Epoch 17/20\n",
      "10000/10000 [==============================] - 4s 414us/step - loss: 1.5701 - dense_3_loss: 0.2242 - dense_4_loss: 0.2470 - dense_5_loss: 0.3115 - dense_6_loss: 0.3459 - dense_7_loss: 0.4396 - dense_3_accuracy: 0.9286 - dense_4_accuracy: 0.9215 - dense_5_accuracy: 0.9024 - dense_6_accuracy: 0.8910 - dense_7_accuracy: 0.8629\n",
      "Epoch 18/20\n",
      "10000/10000 [==============================] - 4s 388us/step - loss: 1.5351 - dense_3_loss: 0.2255 - dense_4_loss: 0.2385 - dense_5_loss: 0.2908 - dense_6_loss: 0.3374 - dense_7_loss: 0.4420 - dense_3_accuracy: 0.9318 - dense_4_accuracy: 0.9249 - dense_5_accuracy: 0.9077 - dense_6_accuracy: 0.8958 - dense_7_accuracy: 0.8618\n",
      "Epoch 19/20\n",
      "10000/10000 [==============================] - 4s 419us/step - loss: 1.4833 - dense_3_loss: 0.2116 - dense_4_loss: 0.2389 - dense_5_loss: 0.2964 - dense_6_loss: 0.3313 - dense_7_loss: 0.4062 - dense_3_accuracy: 0.9332 - dense_4_accuracy: 0.9221 - dense_5_accuracy: 0.9059 - dense_6_accuracy: 0.8995 - dense_7_accuracy: 0.8693 2s - loss: 1.4651 - dense_3_loss: 0.2063 - dense_4_loss: 0.2482 - dense_5_loss: 0.2990 - dense_6_loss: 0.3199 - dense_7_loss: 0.3917 - dense_3_accuracy: 0.9338 - dense_4_accuracy: 0.9212 - dense_5_accuracy: 0.9056 - dense_6_accuracy\n",
      "Epoch 20/20\n",
      "10000/10000 [==============================] - 4s 441us/step - loss: 1.4099 - dense_3_loss: 0.2017 - dense_4_loss: 0.2090 - dense_5_loss: 0.2827 - dense_6_loss: 0.3044 - dense_7_loss: 0.4112 - dense_3_accuracy: 0.9362 - dense_4_accuracy: 0.9339 - dense_5_accuracy: 0.9108 - dense_6_accuracy: 0.9008 - dense_7_accuracy: 0.8693\n"
     ]
    },
    {
     "data": {
      "text/plain": [
       "<keras.callbacks.callbacks.History at 0x236b70cd550>"
      ]
     },
     "execution_count": 27,
     "metadata": {},
     "output_type": "execute_result"
    }
   ],
   "source": [
    "model.fit(X_train, y_train, batch_size=64, epochs=20) # train another 20 epochs"
   ]
  },
  {
   "cell_type": "code",
   "execution_count": 28,
   "metadata": {},
   "outputs": [
    {
     "name": "stdout",
     "output_type": "stream",
     "text": [
      "Epoch 1/20\n",
      "10000/10000 [==============================] - 4s 420us/step - loss: 1.3986 - dense_3_loss: 0.2118 - dense_4_loss: 0.2178 - dense_5_loss: 0.2633 - dense_6_loss: 0.3208 - dense_7_loss: 0.3868 - dense_3_accuracy: 0.9365 - dense_4_accuracy: 0.9301 - dense_5_accuracy: 0.9167 - dense_6_accuracy: 0.9026 - dense_7_accuracy: 0.8804\n",
      "Epoch 2/20\n",
      "10000/10000 [==============================] - 4s 385us/step - loss: 1.3377 - dense_3_loss: 0.2059 - dense_4_loss: 0.2048 - dense_5_loss: 0.2581 - dense_6_loss: 0.2863 - dense_7_loss: 0.3806 - dense_3_accuracy: 0.9373 - dense_4_accuracy: 0.9373 - dense_5_accuracy: 0.9203 - dense_6_accuracy: 0.9113 - dense_7_accuracy: 0.8830\n",
      "Epoch 3/20\n",
      "10000/10000 [==============================] - 4s 376us/step - loss: 1.3002 - dense_3_loss: 0.1909 - dense_4_loss: 0.2063 - dense_5_loss: 0.2474 - dense_6_loss: 0.2935 - dense_7_loss: 0.3598 - dense_3_accuracy: 0.9419 - dense_4_accuracy: 0.9355 - dense_5_accuracy: 0.9239 - dense_6_accuracy: 0.9079 - dense_7_accuracy: 0.8882\n",
      "Epoch 4/20\n",
      "10000/10000 [==============================] - 4s 375us/step - loss: 1.2673 - dense_3_loss: 0.1782 - dense_4_loss: 0.1943 - dense_5_loss: 0.2455 - dense_6_loss: 0.2795 - dense_7_loss: 0.3664 - dense_3_accuracy: 0.9448 - dense_4_accuracy: 0.9363 - dense_5_accuracy: 0.9221 - dense_6_accuracy: 0.9123 - dense_7_accuracy: 0.8880\n",
      "Epoch 5/20\n",
      "10000/10000 [==============================] - 4s 377us/step - loss: 1.1912 - dense_3_loss: 0.1663 - dense_4_loss: 0.1923 - dense_5_loss: 0.2379 - dense_6_loss: 0.2600 - dense_7_loss: 0.3307 - dense_3_accuracy: 0.9454 - dense_4_accuracy: 0.9418 - dense_5_accuracy: 0.9278 - dense_6_accuracy: 0.9172 - dense_7_accuracy: 0.8965\n",
      "Epoch 6/20\n",
      "10000/10000 [==============================] - 4s 378us/step - loss: 1.1941 - dense_3_loss: 0.1802 - dense_4_loss: 0.1863 - dense_5_loss: 0.2408 - dense_6_loss: 0.2686 - dense_7_loss: 0.3196 - dense_3_accuracy: 0.9422 - dense_4_accuracy: 0.9412 - dense_5_accuracy: 0.9259 - dense_6_accuracy: 0.9173 - dense_7_accuracy: 0.9011\n",
      "Epoch 7/20\n",
      "10000/10000 [==============================] - 4s 382us/step - loss: 1.1213 - dense_3_loss: 0.1755 - dense_4_loss: 0.1704 - dense_5_loss: 0.2193 - dense_6_loss: 0.2560 - dense_7_loss: 0.3023 - dense_3_accuracy: 0.9422 - dense_4_accuracy: 0.9476 - dense_5_accuracy: 0.9302 - dense_6_accuracy: 0.9191 - dense_7_accuracy: 0.9025\n",
      "Epoch 8/20\n",
      "10000/10000 [==============================] - 4s 388us/step - loss: 1.1146 - dense_3_loss: 0.1731 - dense_4_loss: 0.1788 - dense_5_loss: 0.2104 - dense_6_loss: 0.2404 - dense_7_loss: 0.3208 - dense_3_accuracy: 0.9499 - dense_4_accuracy: 0.9432 - dense_5_accuracy: 0.9321 - dense_6_accuracy: 0.9244 - dense_7_accuracy: 0.9025\n",
      "Epoch 9/20\n",
      "10000/10000 [==============================] - 4s 381us/step - loss: 1.0472 - dense_3_loss: 0.1525 - dense_4_loss: 0.1714 - dense_5_loss: 0.1969 - dense_6_loss: 0.2411 - dense_7_loss: 0.2868 - dense_3_accuracy: 0.9512 - dense_4_accuracy: 0.9448 - dense_5_accuracy: 0.9353 - dense_6_accuracy: 0.9267 - dense_7_accuracy: 0.9080\n",
      "Epoch 10/20\n",
      "10000/10000 [==============================] - 4s 381us/step - loss: 1.0244 - dense_3_loss: 0.1481 - dense_4_loss: 0.1699 - dense_5_loss: 0.1934 - dense_6_loss: 0.2293 - dense_7_loss: 0.2867 - dense_3_accuracy: 0.9547 - dense_4_accuracy: 0.9461 - dense_5_accuracy: 0.9395 - dense_6_accuracy: 0.9266 - dense_7_accuracy: 0.9098\n",
      "Epoch 11/20\n",
      "10000/10000 [==============================] - 4s 380us/step - loss: 1.0011 - dense_3_loss: 0.1496 - dense_4_loss: 0.1641 - dense_5_loss: 0.1833 - dense_6_loss: 0.2173 - dense_7_loss: 0.2865 - dense_3_accuracy: 0.9531 - dense_4_accuracy: 0.9480 - dense_5_accuracy: 0.9401 - dense_6_accuracy: 0.9290 - dense_7_accuracy: 0.9117\n",
      "Epoch 12/20\n",
      "10000/10000 [==============================] - 4s 379us/step - loss: 0.9821 - dense_3_loss: 0.1516 - dense_4_loss: 0.1560 - dense_5_loss: 0.1840 - dense_6_loss: 0.2188 - dense_7_loss: 0.2773 - dense_3_accuracy: 0.9546 - dense_4_accuracy: 0.9488 - dense_5_accuracy: 0.9421 - dense_6_accuracy: 0.9303 - dense_7_accuracy: 0.9117\n",
      "Epoch 13/20\n",
      "10000/10000 [==============================] - 4s 378us/step - loss: 0.9628 - dense_3_loss: 0.1353 - dense_4_loss: 0.1544 - dense_5_loss: 0.1922 - dense_6_loss: 0.2132 - dense_7_loss: 0.2700 - dense_3_accuracy: 0.9542 - dense_4_accuracy: 0.9517 - dense_5_accuracy: 0.9417 - dense_6_accuracy: 0.9315 - dense_7_accuracy: 0.9153\n",
      "Epoch 14/20\n",
      "10000/10000 [==============================] - 4s 384us/step - loss: 0.9358 - dense_3_loss: 0.1306 - dense_4_loss: 0.1462 - dense_5_loss: 0.1800 - dense_6_loss: 0.2112 - dense_7_loss: 0.2668 - dense_3_accuracy: 0.9578 - dense_4_accuracy: 0.9545 - dense_5_accuracy: 0.9429 - dense_6_accuracy: 0.9342 - dense_7_accuracy: 0.9153\n",
      "Epoch 15/20\n",
      "10000/10000 [==============================] - 4s 384us/step - loss: 0.9243 - dense_3_loss: 0.1458 - dense_4_loss: 0.1488 - dense_5_loss: 0.1892 - dense_6_loss: 0.1898 - dense_7_loss: 0.2525 - dense_3_accuracy: 0.9535 - dense_4_accuracy: 0.9538 - dense_5_accuracy: 0.9390 - dense_6_accuracy: 0.9381 - dense_7_accuracy: 0.9178\n",
      "Epoch 16/20\n",
      "10000/10000 [==============================] - 4s 394us/step - loss: 0.8810 - dense_3_loss: 0.1353 - dense_4_loss: 0.1465 - dense_5_loss: 0.1750 - dense_6_loss: 0.1876 - dense_7_loss: 0.2351 - dense_3_accuracy: 0.9586 - dense_4_accuracy: 0.9542 - dense_5_accuracy: 0.9446 - dense_6_accuracy: 0.9395 - dense_7_accuracy: 0.9265\n",
      "Epoch 17/20\n",
      "10000/10000 [==============================] - 4s 385us/step - loss: 0.8810 - dense_3_loss: 0.1345 - dense_4_loss: 0.1412 - dense_5_loss: 0.1635 - dense_6_loss: 0.1906 - dense_7_loss: 0.2512 - dense_3_accuracy: 0.9584 - dense_4_accuracy: 0.9558 - dense_5_accuracy: 0.9465 - dense_6_accuracy: 0.9411 - dense_7_accuracy: 0.9205\n",
      "Epoch 18/20\n",
      "10000/10000 [==============================] - 4s 378us/step - loss: 0.8577 - dense_3_loss: 0.1247 - dense_4_loss: 0.1381 - dense_5_loss: 0.1603 - dense_6_loss: 0.1852 - dense_7_loss: 0.2480 - dense_3_accuracy: 0.9603 - dense_4_accuracy: 0.9580 - dense_5_accuracy: 0.9447 - dense_6_accuracy: 0.9399 - dense_7_accuracy: 0.9229\n",
      "Epoch 19/20\n",
      "10000/10000 [==============================] - 4s 381us/step - loss: 0.8225 - dense_3_loss: 0.1190 - dense_4_loss: 0.1320 - dense_5_loss: 0.1444 - dense_6_loss: 0.1847 - dense_7_loss: 0.2438 - dense_3_accuracy: 0.9623 - dense_4_accuracy: 0.9563 - dense_5_accuracy: 0.9527 - dense_6_accuracy: 0.9421 - dense_7_accuracy: 0.9222\n",
      "Epoch 20/20\n",
      "10000/10000 [==============================] - 4s 381us/step - loss: 0.7848 - dense_3_loss: 0.1173 - dense_4_loss: 0.1232 - dense_5_loss: 0.1595 - dense_6_loss: 0.1794 - dense_7_loss: 0.2058 - dense_3_accuracy: 0.9611 - dense_4_accuracy: 0.9599 - dense_5_accuracy: 0.9503 - dense_6_accuracy: 0.9434 - dense_7_accuracy: 0.9313\n"
     ]
    },
    {
     "data": {
      "text/plain": [
       "<keras.callbacks.callbacks.History at 0x23904cb5358>"
      ]
     },
     "execution_count": 28,
     "metadata": {},
     "output_type": "execute_result"
    }
   ],
   "source": [
    "model.fit(X_train, y_train, batch_size=64, epochs=20)  # train another 20 epochs"
   ]
  },
  {
   "cell_type": "code",
   "execution_count": 29,
   "metadata": {},
   "outputs": [
    {
     "name": "stdout",
     "output_type": "stream",
     "text": [
      "1303/1303 [==============================] - 1s 425us/step\n"
     ]
    }
   ],
   "source": [
    "res = model.evaluate(X_test, y_test)"
   ]
  },
  {
   "cell_type": "code",
   "execution_count": 30,
   "metadata": {},
   "outputs": [
    {
     "data": {
      "text/plain": [
       "[0.17805065214633942,\n",
       " 0.9201841950416565,\n",
       " 0.8887183666229248,\n",
       " 0.8979278802871704,\n",
       " 0.8587874174118042]"
      ]
     },
     "execution_count": 30,
     "metadata": {},
     "output_type": "execute_result"
    }
   ],
   "source": [
    "res[6:]"
   ]
  },
  {
   "cell_type": "code",
   "execution_count": 31,
   "metadata": {},
   "outputs": [],
   "source": [
    "model.save(\"weibo.com.h5\")"
   ]
  },
  {
   "cell_type": "markdown",
   "metadata": {},
   "source": [
    "## Use in product"
   ]
  },
  {
   "cell_type": "code",
   "execution_count": 32,
   "metadata": {},
   "outputs": [
    {
     "data": {
      "image/png": "[encoded data removed]",
      "text/plain": [
       "<PIL.Image.Image image mode=L size=100x40 at 0x236ECC10630>"
      ]
     },
     "execution_count": 32,
     "metadata": {},
     "output_type": "execute_result"
    }
   ],
   "source": [
    "Image.fromarray(np.array(X_test[0].reshape(40, 100), dtype=np.uint8))"
   ]
  },
  {
   "cell_type": "code",
   "execution_count": 33,
   "metadata": {},
   "outputs": [],
   "source": [
    "res = model.predict(np.array([X_test[0]]).reshape(1, 40, 100, 1))"
   ]
  },
  {
   "cell_type": "code",
   "execution_count": 34,
   "metadata": {},
   "outputs": [
    {
     "name": "stdout",
     "output_type": "stream",
     "text": [
      "x k 6 a r\n"
     ]
    }
   ],
   "source": [
    "print(index2ch[res[0].argmax(1)[0]], \n",
    "      index2ch[res[1].argmax(1)[0]], \n",
    "      index2ch[res[2].argmax(1)[0]], \n",
    "      index2ch[res[3].argmax(1)[0]], \n",
    "      index2ch[res[4].argmax(1)[0]])"
   ]
  },
  {
   "cell_type": "code",
   "execution_count": 35,
   "metadata": {},
   "outputs": [
    {
     "data": {
      "image/png": "[encoded data removed]",
      "text/plain": [
       "<PIL.Image.Image image mode=L size=100x40 at 0x236ECC10DA0>"
      ]
     },
     "execution_count": 35,
     "metadata": {},
     "output_type": "execute_result"
    }
   ],
   "source": [
    "Image.fromarray(np.array(X_test[1].reshape(40, 100), dtype=np.uint8))"
   ]
  },
  {
   "cell_type": "code",
   "execution_count": 36,
   "metadata": {},
   "outputs": [],
   "source": [
    "res = model.predict(np.array([X_test[1]]).reshape(1, 40, 100, 1))"
   ]
  },
  {
   "cell_type": "code",
   "execution_count": 37,
   "metadata": {},
   "outputs": [
    {
     "name": "stdout",
     "output_type": "stream",
     "text": [
      "x k 7 d y\n"
     ]
    }
   ],
   "source": [
    "print(index2ch[res[0].argmax(1)[0]], \n",
    "      index2ch[res[1].argmax(1)[0]], \n",
    "      index2ch[res[2].argmax(1)[0]], \n",
    "      index2ch[res[3].argmax(1)[0]], \n",
    "      index2ch[res[4].argmax(1)[0]])"
   ]
  },
  {
   "cell_type": "code",
   "execution_count": null,
   "metadata": {},
   "outputs": [],
   "source": []
  }
 ],
 "metadata": {
  "kernelspec": {
   "display_name": "Python 3",
   "language": "python",
   "name": "python3"
  },
  "language_info": {
   "codemirror_mode": {
    "name": "ipython",
    "version": 3
   },
   "file_extension": ".py",
   "mimetype": "text/x-python",
   "name": "python",
   "nbconvert_exporter": "python",
   "pygments_lexer": "ipython3",
   "version": "3.7.3"
  }
 },
 "nbformat": 4,
 "nbformat_minor": 2
}
